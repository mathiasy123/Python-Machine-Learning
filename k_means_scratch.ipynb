{
 "cells": [
  {
   "cell_type": "code",
   "execution_count": 1,
   "metadata": {},
   "outputs": [],
   "source": [
    "import matplotlib.pyplot as plt\n",
    "from matplotlib import style\n",
    "\n",
    "import numpy as np\n",
    "\n",
    "style.use('ggplot')"
   ]
  },
  {
   "cell_type": "code",
   "execution_count": 2,
   "metadata": {},
   "outputs": [],
   "source": [
    "class K_Means:\n",
    "    \n",
    "    def __init__(self, k = 2, tolerance = 0.01, max_iter = 300):\n",
    "        self.k = k\n",
    "        self.tolerance = tolerance\n",
    "        self.max_iter = max_iter\n",
    "        \n",
    "    def fit(self, data):\n",
    "        self.centroids = {}\n",
    "        \n",
    "        for i in range(self.k):\n",
    "            self.centroids[i] = data[i]\n",
    "            \n",
    "        for i in range(self.max_iter):\n",
    "            self.clustering = {}\n",
    "            \n",
    "            for i in range(self.k):\n",
    "                self.clustering[i] = []\n",
    "                \n",
    "            for feature_set in data:\n",
    "                distances = [np.linalg.norm(feature_set - self.centroids[centroid]) for centroid in self.centroids]\n",
    "                cluster = distances.index(min(distances))\n",
    "\n",
    "                self.clustering[cluster].append(feature_set)\n",
    "            \n",
    "            prev_centroids = dict(self.centroids)\n",
    "            \n",
    "            for cluster in self.clustering: \n",
    "                self.centroids[cluster] = np.average(self.clustering[cluster], axis = 0)  \n",
    "            \n",
    "            optimized = True\n",
    "            \n",
    "            for c in self.centroids:\n",
    "                original_centroid = prev_centroids[c]\n",
    "                current_centroid = self.centroids[c]\n",
    "                \n",
    "                if np.sum((current_centroid - original_centroid) / original_centroid * 100.0) > self.tolerance:\n",
    "                    print(np.sum((current_centroid - original_centroid) / original_centroid * 100.0))\n",
    "                    optimized = False\n",
    "            \n",
    "            if optimized:\n",
    "                break\n",
    "            \n",
    "    def predict(self, data):\n",
    "        distances = [np.linalg.norm(feature_set - self.centroids[centroid]) for centroid in self.centroids]\n",
    "        cluster = distances.index(min(distances))\n",
    "        \n",
    "        return cluster"
   ]
  },
  {
   "cell_type": "code",
   "execution_count": 3,
   "metadata": {},
   "outputs": [],
   "source": [
    "X = np.array([[1, 2], [1.5, 1.8], [5, 8], [8, 8], [1, 0.6], [9, 11]])"
   ]
  },
  {
   "cell_type": "code",
   "execution_count": 4,
   "metadata": {},
   "outputs": [
    {
     "data": {
      "image/png": "[encoded data removed]",
      "text/plain": [
       "<Figure size 432x288 with 1 Axes>"
      ]
     },
     "metadata": {
      "needs_background": "light"
     },
     "output_type": "display_data"
    }
   ],
   "source": [
    "plt.scatter(X[:, 0], X[:, 1], s = 150)\n",
    "\n",
    "plt.show()"
   ]
  },
  {
   "cell_type": "code",
   "execution_count": 5,
   "metadata": {},
   "outputs": [],
   "source": [
    "colors = ['g', 'r', 'b', 'k']"
   ]
  },
  {
   "cell_type": "code",
   "execution_count": 6,
   "metadata": {},
   "outputs": [],
   "source": [
    "k_means = K_Means()"
   ]
  },
  {
   "cell_type": "code",
   "execution_count": 7,
   "metadata": {},
   "outputs": [
    {
     "name": "stdout",
     "output_type": "stream",
     "text": [
      "453.3333333333334\n",
      "102.72108843537411\n"
     ]
    }
   ],
   "source": [
    "k_means.fit(X)"
   ]
  },
  {
   "cell_type": "code",
   "execution_count": 8,
   "metadata": {},
   "outputs": [],
   "source": [
    "unknown_data = np.array([[1, 3], [8, 9], [0, 3], [5, 4], [6, 4]])"
   ]
  },
  {
   "cell_type": "code",
   "execution_count": 9,
   "metadata": {},
   "outputs": [
    {
     "data": {
      "image/png": "[encoded data removed]",
      "text/plain": [
       "<Figure size 432x288 with 1 Axes>"
      ]
     },
     "metadata": {
      "needs_background": "light"
     },
     "output_type": "display_data"
    }
   ],
   "source": [
    "for centroid in k_means.centroids:\n",
    "    plt.scatter(k_means.centroids[centroid][0], k_means.centroids[centroid][1], marker = 'o', color = 'k', s = 150, linewidth = 5)\n",
    "    \n",
    "for cluster in k_means.clustering:\n",
    "    color = colors[cluster]\n",
    "    \n",
    "    for feature_set in k_means.clustering[cluster]:\n",
    "        plt.scatter(feature_set[0], feature_set[1], marker = 'x', color = color, s = 150, linewidth = 5)\n",
    "\n",
    "for data_test in unknown_data:\n",
    "    cluster = k_means.predict(data_test)\n",
    "    \n",
    "    plt.scatter(data_test[0], data_test[1], marker = '*', color = colors[cluster], linewidth = 5)\n",
    "    \n",
    "plt.show()"
   ]
  },
  {
   "cell_type": "code",
   "execution_count": null,
   "metadata": {},
   "outputs": [],
   "source": []
  }
 ],
 "metadata": {
  "kernelspec": {
   "display_name": "Python 3",
   "language": "python",
   "name": "python3"
  },
  "language_info": {
   "codemirror_mode": {
    "name": "ipython",
    "version": 3
   },
   "file_extension": ".py",
   "mimetype": "text/x-python",
   "name": "python",
   "nbconvert_exporter": "python",
   "pygments_lexer": "ipython3",
   "version": "3.7.4"
  }
 },
 "nbformat": 4,
 "nbformat_minor": 2
}
