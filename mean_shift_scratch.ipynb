{
 "cells": [
  {
   "cell_type": "code",
   "execution_count": 1,
   "metadata": {},
   "outputs": [
    {
     "name": "stderr",
     "output_type": "stream",
     "text": [
      "C:\\Users\\Dell\\Anaconda3\\lib\\site-packages\\sklearn\\utils\\deprecation.py:144: FutureWarning: The sklearn.datasets.samples_generator module is  deprecated in version 0.22 and will be removed in version 0.24. The corresponding classes / functions should instead be imported from sklearn.datasets. Anything that cannot be imported from sklearn.datasets is now part of the private API.\n",
      "  warnings.warn(message, FutureWarning)\n"
     ]
    }
   ],
   "source": [
    "import numpy as np\n",
    "\n",
    "import matplotlib.pyplot as plt\n",
    "from matplotlib import style\n",
    "\n",
    "from sklearn.datasets.samples_generator import make_blobs\n",
    "\n",
    "style.use('ggplot')"
   ]
  },
  {
   "cell_type": "code",
   "execution_count": 2,
   "metadata": {},
   "outputs": [],
   "source": [
    "class MeanShift:\n",
    "    \n",
    "    def __init__(self, radius = None, radius_norm_step = 100):\n",
    "        self.radius = radius\n",
    "        self.radius_norm_step = radius_norm_step\n",
    "    \n",
    "    def fit(self, data):\n",
    "        centroids = {}\n",
    "        \n",
    "        \n",
    "        if self.radius == None:\n",
    "            all_data_centroid = np.average(data, axis = 0)\n",
    "            all_data_norm = np.linalg.norm(all_data_centroid)\n",
    "            \n",
    "            self.radius = all_data_norm / self.radius_norm_step\n",
    "            \n",
    "        \n",
    "        for i in range(len(data)):\n",
    "            centroids[i] = data[i]\n",
    "            \n",
    "        while True:\n",
    "            new_centroids = []\n",
    "            \n",
    "            for i in centroids:\n",
    "                in_radius = []\n",
    "                \n",
    "                centroid = centroids[i]\n",
    "                \n",
    "                weights = [i for i in range(self.radius_norm_step)][::-1]\n",
    "                \n",
    "                for feature_set in data:\n",
    "                    distances = np.linalg.norm(feature_set - centroid)\n",
    "                    \n",
    "                    if distances == 0:\n",
    "                        distances = 0.000000001\n",
    "                        \n",
    "                    weight_index = int(distances / self.radius)\n",
    "                    \n",
    "                    if weight_index > (self.radius_norm_step - 1):\n",
    "                        weight_index = self.radius_norm_step - 1\n",
    "                        \n",
    "                    to_add = (weights[weight_index] ** 2) * [feature_set]\n",
    "                    in_radius += to_add\n",
    "                        \n",
    "                new_centroid = np.average(in_radius, axis = 0)\n",
    "                new_centroids.append(tuple(new_centroid))\n",
    "                \n",
    "            uniques = sorted(list(set(new_centroids)))\n",
    "            \n",
    "            to_pop = []\n",
    "            \n",
    "            for i in uniques:\n",
    "                for j in uniques:\n",
    "                    \n",
    "                    if i == j:\n",
    "                        pass\n",
    "                    elif np.linalg.norm(np.array(i) - np.array(j)) <= self.radius:\n",
    "                        to_pop.append(j)\n",
    "                        break\n",
    "            \n",
    "            for i in to_pop:\n",
    "                try:\n",
    "                    uniques.remove(i)\n",
    "                except:\n",
    "                    pass\n",
    "                        \n",
    "            prev_centroids = dict(centroids)\n",
    "            \n",
    "            centroids = {}\n",
    "            \n",
    "            for i in range(len(uniques)):\n",
    "                centroids[i] = np.array(uniques[i])\n",
    "                \n",
    "            optimized = True\n",
    "            \n",
    "            for i in centroids:\n",
    "                if not np.array_equal(centroids[i], prev_centroids[i]):\n",
    "                    optimized = False\n",
    "                    \n",
    "                if not optimized:\n",
    "                    break\n",
    "                    \n",
    "            if optimized:\n",
    "                break\n",
    "                \n",
    "        self.centroids = centroids\n",
    "        \n",
    "        self.clustering = {}\n",
    "        \n",
    "        for i in range(len(self.centroids)):\n",
    "            self.clustering[i] = []\n",
    "            \n",
    "        for feature_set in data:\n",
    "            distances = [np.linalg.norm(feature_set - self.centroids[centroid]) for centroid in self.centroids]\n",
    "            \n",
    "            cluster = distances.index(min(distances))\n",
    "            \n",
    "            self.clustering[cluster].append(feature_set)\n",
    "    \n",
    "    def predict(self, data):\n",
    "        distances = [np.linalg.norm(feature_set - self.centroids[centroid]) for centroid in self.centroids]\n",
    "            \n",
    "        cluster = distances.index(min(distances))\n",
    "            \n",
    "        self.clustering[cluster].append(feature_set)\n",
    "        \n",
    "        return cluster"
   ]
  },
  {
   "cell_type": "code",
   "execution_count": 9,
   "metadata": {},
   "outputs": [],
   "source": [
    "X, y = make_blobs(n_samples = 20, centers = 3, n_features = 2)\n",
    "\n",
    "colors = 10 * ['g', 'r', 'c', 'b', 'k']"
   ]
  },
  {
   "cell_type": "code",
   "execution_count": 10,
   "metadata": {},
   "outputs": [],
   "source": [
    "mean_shift = MeanShift()"
   ]
  },
  {
   "cell_type": "code",
   "execution_count": 11,
   "metadata": {},
   "outputs": [],
   "source": [
    "mean_shift.fit(X)"
   ]
  },
  {
   "cell_type": "code",
   "execution_count": 12,
   "metadata": {},
   "outputs": [],
   "source": [
    "centroids = mean_shift.centroids"
   ]
  },
  {
   "cell_type": "code",
   "execution_count": 13,
   "metadata": {},
   "outputs": [
    {
     "data": {
      "image/png": "[encoded data removed]",
      "text/plain": [
       "<Figure size 432x288 with 1 Axes>"
      ]
     },
     "metadata": {
      "needs_background": "light"
     },
     "output_type": "display_data"
    }
   ],
   "source": [
    "plt.scatter(X[:, 0], X[:, 1], s = 150)\n",
    "\n",
    "for cluster in mean_shift.clustering:\n",
    "    color = colors[cluster]\n",
    "    \n",
    "    for feature_set in mean_shift.clustering[cluster]:\n",
    "        plt.scatter(feature_set[0], feature_set[1], color = color, s = 50, linewidth = 5)\n",
    "\n",
    "for c in centroids:\n",
    "    plt.scatter(centroids[c][0], centroids[c][1], color = 'k', marker = '*', s = 150)\n",
    "    \n",
    "plt.show()"
   ]
  },
  {
   "cell_type": "code",
   "execution_count": null,
   "metadata": {},
   "outputs": [],
   "source": []
  }
 ],
 "metadata": {
  "kernelspec": {
   "display_name": "Python 3",
   "language": "python",
   "name": "python3"
  },
  "language_info": {
   "codemirror_mode": {
    "name": "ipython",
    "version": 3
   },
   "file_extension": ".py",
   "mimetype": "text/x-python",
   "name": "python",
   "nbconvert_exporter": "python",
   "pygments_lexer": "ipython3",
   "version": "3.7.4"
  }
 },
 "nbformat": 4,
 "nbformat_minor": 2
}
