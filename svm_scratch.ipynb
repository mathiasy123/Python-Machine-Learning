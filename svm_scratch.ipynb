{
 "cells": [
  {
   "cell_type": "code",
   "execution_count": null,
   "metadata": {},
   "outputs": [],
   "source": [
    "import numpy as np\n",
    "\n",
    "import matplotlib.pyplot as plt\n",
    "from matplotlib import style\n",
    "\n",
    "style.use('ggplot')"
   ]
  },
  {
   "cell_type": "code",
   "execution_count": null,
   "metadata": {},
   "outputs": [],
   "source": [
    "class SupportVectorMachine:\n",
    "    \n",
    "    def __init__(self, visualization = False):\n",
    "        self.visualization = visualization\n",
    "        self.colors = {1: 'r', -1: 'b'}\n",
    "        \n",
    "        if self.visualization:\n",
    "            self.fig = plt.figure()\n",
    "            self.ax = self.fig.add_subplot(1, 1, 1)\n",
    "            \n",
    "            \n",
    "    def fit(self, data):\n",
    "        self.data = data\n",
    "        magnitute_w = {}\n",
    "        transforms = np.array([ [1, 1], [-1, 1], [-1, -1], [1, -1] ])\n",
    "        all_data = []\n",
    "        \n",
    "        for yi in self.data:\n",
    "            for feature_set in self.data[yi]:\n",
    "                for feature in feature_set:\n",
    "                    all_data.append(feature)\n",
    "                    \n",
    "        self.max_feature_value = max(all_data)\n",
    "        self.min_feature_value = min(all_data)\n",
    "        all_data = None\n",
    "        \n",
    "        step_sizes = [self.max_feature_value * 0.1, self.max_feature_value * 0.01, self.max_feature_value * 0.001,]\n",
    "        b_range_multiple = 5\n",
    "        b_multiple = 5\n",
    "        latest_optimum = self.max_feature_value * 10\n",
    "        \n",
    "        for step in step_sizes:\n",
    "            w = np.array([latest_optimum, latest_optimum])\n",
    "            optimized = False\n",
    "            \n",
    "            while not optimized:\n",
    "                aranged_b = np.arange(-1 * (self.max_feature_value * b_range_multiple), \n",
    "                                      self.max_feature_value * b_range_multiple, step * b_multiple)\n",
    "                \n",
    "                for b in aranged_b:\n",
    "                    for transformation in transforms:\n",
    "                        w_transformed = w * transformation\n",
    "                        \n",
    "                        found_option = True\n",
    "                                    \n",
    "                        if found_option:\n",
    "                            magnitute_w[np.linalg.norm(w_transformed)] = [w_transformed, b]\n",
    "                \n",
    "                if w[0] < 0:\n",
    "                    optimized = True\n",
    "                    print('Optimized a step.')\n",
    "                else:\n",
    "                    w = w - step\n",
    "        \n",
    "        norms = sorted([n for n in magnitute_w])\n",
    "        opt_choice = magnitute_w[norms[0]]\n",
    "        self.w = opt_choice[0]\n",
    "        self.b = opt_choice[1]\n",
    "        \n",
    "        latest_optimum = opt_choice[0][0] + step * 2\n",
    "        \n",
    "        for index in self.data:\n",
    "            for xi in self.data[index]:\n",
    "                yi = index\n",
    "                constraint_function = yi * (np.dot(self.w, xi) + self.b)\n",
    "                print(xi, ':', constraint_function)\n",
    "    \n",
    "    def predict(self, features):\n",
    "        vector_dot = np.dot(np.array(features), self.w)\n",
    "        classification = np.sign(vector_dot + self.b)\n",
    "        \n",
    "        if classification != 0 and self.visualization:\n",
    "            self.ax.scatter(features[0], features[1], s = 200, marker = '*', c = self.colors[classification])\n",
    "        \n",
    "        return classification\n",
    "    \n",
    "    def visualize(self):\n",
    "        [[self.ax.scatter(x[0], x[1], s = 100, color = self.colors[i]) for x in data_dict[i]] for i in data_dict]\n",
    "        \n",
    "        def hyperplane(x, w, b, values):\n",
    "            return (-w[0] * x - b + values) / w[1]\n",
    "        \n",
    "        data_range = (self.min_feature_value * 0.9, self.max_feature_value * 1.1)\n",
    "        hyper_x_min = data_range[0]\n",
    "        hyper_x_max = data_range[1]\n",
    "        \n",
    "        positive_sv_one = hyperplane(hyper_x_min, self.w, self.b, 1)\n",
    "        positive_sv_two = hyperplane(hyper_x_max, self.w, self.b, 1)\n",
    "        self.ax.plot([hyper_x_min, hyper_x_max], [positive_sv_one, positive_sv_two], 'k')\n",
    "        \n",
    "        negative_sv_one = hyperplane(hyper_x_min, self.w, self.b, -1)\n",
    "        negative_sv_two = hyperplane(hyper_x_max, self.w, self.b, -1)\n",
    "        self.ax.plot([hyper_x_min, hyper_x_max], [negative_sv_one, negative_sv_two], 'k')\n",
    "        \n",
    "        decision_boundry_one = hyperplane(hyper_x_min, self.w, self.b, 0)\n",
    "        decision_boundry_two = hyperplane(hyper_x_max, self.w, self.b, 0)\n",
    "        self.ax.plot([hyper_x_min, hyper_x_max], [decision_boundry_one, decision_boundry_two], 'y--')\n",
    "        \n",
    "        plt.show()"
   ]
  },
  {
   "cell_type": "code",
   "execution_count": null,
   "metadata": {},
   "outputs": [],
   "source": [
    "class_a = [ [1, 7], [2, 8], [3, 8], ]\n",
    "class_b = [ [5, 1], [6, -1], [7, 3] ]\n",
    "\n",
    "data_dict = {-1: np.array(class_a), 1: np.array(class_b)}"
   ]
  },
  {
   "cell_type": "code",
   "execution_count": null,
   "metadata": {},
   "outputs": [],
   "source": [
    "svm = SupportVectorMachine(visualization = True)"
   ]
  },
  {
   "cell_type": "code",
   "execution_count": null,
   "metadata": {},
   "outputs": [],
   "source": [
    "svm.fit(data = data_dict)"
   ]
  },
  {
   "cell_type": "code",
   "execution_count": null,
   "metadata": {},
   "outputs": [],
   "source": [
    "svm.visualize()"
   ]
  },
  {
   "cell_type": "code",
   "execution_count": null,
   "metadata": {},
   "outputs": [],
   "source": [
    "predict_data = [[0, 10], [1, 3], [3, 4], [3, 5], [5, 5], [5, 6], [6, -5], [5, 8],]"
   ]
  },
  {
   "cell_type": "code",
   "execution_count": null,
   "metadata": {},
   "outputs": [],
   "source": [
    "for y_pred in predict_data:\n",
    "    print(svm.predict(y_pred))"
   ]
  },
  {
   "cell_type": "code",
   "execution_count": null,
   "metadata": {},
   "outputs": [],
   "source": [
    "svm.visualize()"
   ]
  },
  {
   "cell_type": "code",
   "execution_count": null,
   "metadata": {},
   "outputs": [],
   "source": []
  }
 ],
 "metadata": {
  "kernelspec": {
   "display_name": "Python 3",
   "language": "python",
   "name": "python3"
  },
  "language_info": {
   "codemirror_mode": {
    "name": "ipython",
    "version": 3
   },
   "file_extension": ".py",
   "mimetype": "text/x-python",
   "name": "python",
   "nbconvert_exporter": "python",
   "pygments_lexer": "ipython3",
   "version": "3.7.4"
  }
 },
 "nbformat": 4,
 "nbformat_minor": 2
}
